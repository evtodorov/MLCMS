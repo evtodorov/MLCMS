{
 "cells": [
  {
   "cell_type": "code",
   "execution_count": 1,
   "metadata": {},
   "outputs": [],
   "source": [
    "import os\n",
    "import sys\n",
    "module_path = os.path.abspath(os.path.join('..'))\n",
    "if module_path not in sys.path:\n",
    "    sys.path.append(module_path)\n",
    "\n",
    "from pedestrian_grid import PedestrianGrid\n",
    "from ui import UI"
   ]
  },
  {
   "source": [
    "## Task 1/5: Setting up the modeling environment\n",
    "Basic visualization with added pedastrian, target and obstacles. User interference is also possible, see UI.start_CLI()."
   ],
   "cell_type": "markdown",
   "metadata": {}
  },
  {
   "cell_type": "code",
   "execution_count": 2,
   "metadata": {},
   "outputs": [],
   "source": [
    "ui_1 = UI()\n",
    "pedestrian = [(10, 24), (24, 4)]\n",
    "target = [(24,24)]\n",
    "obstacle = [(40,40), (39,40), (38,40), (37,40), (36,40), \n",
    "        (36,41), (36,42), (36,43), (36,44), \n",
    "        (37,44), (38,44), (39,44), (40,44)]\n",
    "grid_1 = PedestrianGrid(n = 50, m = 50, pedestrians = pedestrian, target = target, obstacles=obstacle)"
   ]
  },
  {
   "cell_type": "code",
   "execution_count": 3,
   "metadata": {},
   "outputs": [],
   "source": [
    "#ui_1.plot(grid_1.grid)"
   ]
  },
  {
   "source": [
    "## Task 2/5: First step of a single pedestrian\n",
    "Simulates a pedastrian moving from (5,25) in a (25,25) grid in 25 time steps."
   ],
   "cell_type": "markdown",
   "metadata": {}
  },
  {
   "cell_type": "code",
   "execution_count": 4,
   "metadata": {},
   "outputs": [
    {
     "output_type": "stream",
     "name": "stdout",
     "text": [
      "Crowd simulation based on cellular automata\n\n\n\tThe domain is a rectangular grid to be provided by the user\nmatching the following definitions:\n\t\t0\tEmpty cell\n\t\t1\tPedestrian\n\t\t2\tTarget (one per file)\n\t\t3\tObstacle\nChoose initial conditions:\nThe following initial conditions match  /Users/Julius/Documents/Skola/TUM/Kurser/SS21/MLCMS_GroupB/Exercise_1/ICs/*.txt :\nPick one of the options below:\n\n\t0\tChange the directory\n\t1\t/Users/Julius/Documents/Skola/TUM/Kurser/SS21/MLCMS_GroupB/Exercise_1/ICs/task2.txt\n\t2\t/Users/Julius/Documents/Skola/TUM/Kurser/SS21/MLCMS_GroupB/Exercise_1/ICs/task3.txt\n\tQ\tTo exit the program\n"
     ]
    },
    {
     "output_type": "error",
     "ename": "SystemExit",
     "evalue": "",
     "traceback": [
      "An exception has occurred, use %tb to see the full traceback.\n",
      "\u001b[0;31mSystemExit\u001b[0m\n"
     ]
    }
   ],
   "source": [
    "ui_3 = UI(max_frames = 25)\n",
    "\n",
    "ui_3.start_CLI()"
   ]
  },
  {
   "cell_type": "code",
   "execution_count": 5,
   "metadata": {},
   "outputs": [
    {
     "output_type": "error",
     "ename": "SystemExit",
     "evalue": "",
     "traceback": [
      "An exception has occurred, use %tb to see the full traceback.\n",
      "\u001b[0;31mSystemExit\u001b[0m\n"
     ]
    }
   ],
   "source": [
    "## TODO: Some problem with the animation\n",
    "\n",
    "ui_2 = UI(max_frames = 25)\n",
    "\n",
    "ui_2.icname = 'Notebook'\n",
    "pedestrian = [(4, 24)]\n",
    "target = [(24,24)]\n",
    "grid_2 = PedestrianGrid(n = 50, m = 50, pedestrians = pedestrian, target = target)\n",
    "ui_2.grid = grid_2\n",
    "ui_2.animate()\n",
    "ui_2.exit()"
   ]
  },
  {
   "source": [
    "## Task 3/5: Interaction of pedestrians\n",
    "Simulates five pedastrians moving to a target from a circle."
   ],
   "cell_type": "markdown",
   "metadata": {}
  },
  {
   "cell_type": "code",
   "execution_count": 7,
   "metadata": {},
   "outputs": [
    {
     "output_type": "stream",
     "name": "stdout",
     "text": [
      "Crowd simulation based on cellular automata\n",
      "\n",
      "\n",
      "\tThe domain is a rectangular grid to be provided by the user\n",
      "matching the following definitions:\n",
      "\t\t0\tEmpty cell\n",
      "\t\t1\tPedestrian\n",
      "\t\t2\tTarget (one per file)\n",
      "\t\t3\tObstacle\n",
      "Choose initial conditions:\n",
      "The following initial conditions match  ./ICs/*.txt :\n",
      "Pick one of the options below:\n",
      "\n",
      "\t0\tChange the directory\n",
      "\tQ\tTo exit the program\n",
      "Invalid choice. Please choose again.\n",
      "Invalid choice. Please choose again.\n",
      "Invalid choice. Please choose again.\n",
      "Invalid choice. Please choose again.\n"
     ]
    },
    {
     "output_type": "error",
     "ename": "SystemExit",
     "evalue": "",
     "traceback": [
      "An exception has occurred, use %tb to see the full traceback.\n",
      "\u001b[0;31mSystemExit\u001b[0m\n"
     ]
    }
   ],
   "source": [
    "ui_3 = UI(max_frames = 25)\n",
    "\n",
    "ui_3.start_CLI()"
   ]
  },
  {
   "cell_type": "code",
   "execution_count": null,
   "metadata": {},
   "outputs": [],
   "source": []
  }
 ],
 "metadata": {
  "kernelspec": {
   "name": "python3",
   "display_name": "Python 3.7.9 64-bit ('3.7')"
  },
  "language_info": {
   "codemirror_mode": {
    "name": "ipython",
    "version": 3
   },
   "file_extension": ".py",
   "mimetype": "text/x-python",
   "name": "python",
   "nbconvert_exporter": "python",
   "pygments_lexer": "ipython3",
   "version": "3.7.9"
  }
 },
 "nbformat": 4,
 "nbformat_minor": 4
}