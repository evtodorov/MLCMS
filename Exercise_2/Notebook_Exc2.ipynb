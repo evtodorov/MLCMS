{
 "metadata": {
  "language_info": {
   "codemirror_mode": {
    "name": "ipython",
    "version": 3
   },
   "file_extension": ".py",
   "mimetype": "text/x-python",
   "name": "python",
   "nbconvert_exporter": "python",
   "pygments_lexer": "ipython3",
   "version": "3.7.9"
  },
  "orig_nbformat": 2,
  "kernelspec": {
   "name": "python379jvsc74a57bd0e534e48711db4d1e1c48977d0d14ff85b1f16d41bcc4fdfd88268a329b3c9d66",
   "display_name": "Python 3.7.9 64-bit ('3.7')"
  }
 },
 "nbformat": 4,
 "nbformat_minor": 2,
 "cells": [
  {
   "source": [
    "Pedestrian_template = {'attributes': {'id': 1337, 'radius': 0.195, 'densityDependentSpeed': False, 'speedDistributionMean': 1.34, 'speedDistributionStandardDeviation': 0.26, 'minimumSpeed': 0.5, 'maximumSpeed': 2.2, 'acceleration': 2.0, 'footstepHistorySize': 4, 'searchRadius': 1.0, 'walkingDirectionCalculation': 'BY_TARGET_CENTER', 'walkingDirectionSameIfAngleLessOrEqual': 45.0}, 'source': None, 'targetIds': [1], 'nextTargetListIndex': 0, 'isCurrentTargetAnAgent': False, 'position': {'x': 12, 'y': 2}, 'velocity': {'x': 0.0, 'y': 0.0}, 'freeFlowSpeed': 1.420734624122518, 'followers': [], 'idAsTarget': -1, 'isChild': False, 'isLikelyInjured': False, 'psychologyStatus': {'mostImportantStimulus': None, 'threatMemory': {'allThreats': [], 'latestThreatUnhandled': False}, 'selfCategory': 'TARGET_ORIENTED', 'groupMembership': 'OUT_GROUP', 'knowledgeBase': {'knowledge': []}}, 'groupIds': [], 'groupSizes': [], 'trajectory': {'footSteps': []}, 'modelPedestrianMap': None, 'type': 'PEDESTRIAN'}"
   ],
   "cell_type": "code",
   "metadata": {},
   "execution_count": 1,
   "outputs": []
  },
  {
   "cell_type": "code",
   "execution_count": 3,
   "metadata": {},
   "outputs": [],
   "source": [
    "import numpy as np\n",
    "import pandas as pd\n",
    "import json"
   ]
  },
  {
   "cell_type": "code",
   "execution_count": 4,
   "metadata": {},
   "outputs": [
    {
     "output_type": "execute_result",
     "data": {
      "text/plain": [
       "Int64Index([ 5,  6,  7,  8,  9, 10, 11, 12, 13, 14,\n",
       "            ...\n",
       "            26,  6, 26,  5,  6, 26,  5, 26,  5,  6],\n",
       "           dtype='int64', name='pedestrianId', length=1135)"
      ]
     },
     "metadata": {},
     "execution_count": 4
    }
   ],
   "source": [
    "path = \"/Users/Julius/Documents/Skola/TUM/Kurser/SS21/vadere/Results/OSM_rimea_06_corner_2021-05-04_13-47-23.26/postvis.traj\"\n",
    "data = pd.read_csv(path, sep = ' ')\n",
    "df = pd.DataFrame(data)\n",
    "df.set_index('pedestrianId', inplace=True)\n",
    "df.index"
   ]
  },
  {
   "cell_type": "code",
   "execution_count": 5,
   "metadata": {},
   "outputs": [],
   "source": [
    "path = \"//Users/Julius/Documents/Skola/TUM/Kurser/SS21/vadere/Results/OSM_rimea_06_corner_2021-05-04_13-47-23.26/OSM_rimea_06_corner.scenario\" # To change\n",
    "with open(path, 'r') as f:\n",
    "    data = json.load(f)\n",
    "\n",
    "#print(json.dumps(data['scenario']['topography']['dynamicElements'], indent=4, sort_keys=True))\n",
    "pedestrian = data['scenario']['topography']['dynamicElements'][0]\n",
    "pedestrian_new = Pedestrian_template.copy()\n",
    "pedestrian_new['attributes']['id'] = 1337\n",
    "pedestrian_new['position']['x'] = 12\n",
    "pedestrian_new['position']['y'] = 2\n",
    "pedestrian_new['targetIds'] = [1]\n",
    "data['scenario']['topography']['dynamicElements'].append(pedestrian_new)"
   ]
  },
  {
   "cell_type": "code",
   "execution_count": 6,
   "metadata": {},
   "outputs": [],
   "source": [
    "#print(json.dumps(data['scenario']['topography']['dynamicElements'], indent=10, sort_keys=True))\n"
   ]
  },
  {
   "cell_type": "code",
   "execution_count": 7,
   "metadata": {},
   "outputs": [
    {
     "output_type": "stream",
     "name": "stdout",
     "text": [
      "{'attributes': {'id': 1337, 'radius': 0.195, 'densityDependentSpeed': False, 'speedDistributionMean': 1.34, 'speedDistributionStandardDeviation': 0.26, 'minimumSpeed': 0.5, 'maximumSpeed': 2.2, 'acceleration': 2.0, 'footstepHistorySize': 4, 'searchRadius': 1.0, 'walkingDirectionCalculation': 'BY_TARGET_CENTER', 'walkingDirectionSameIfAngleLessOrEqual': 45.0}, 'source': None, 'targetIds': [1], 'nextTargetListIndex': 0, 'isCurrentTargetAnAgent': False, 'position': {'x': 12, 'y': 2}, 'velocity': {'x': 0.0, 'y': 0.0}, 'freeFlowSpeed': 1.420734624122518, 'followers': [], 'idAsTarget': -1, 'isChild': False, 'isLikelyInjured': False, 'psychologyStatus': {'mostImportantStimulus': None, 'threatMemory': {'allThreats': [], 'latestThreatUnhandled': False}, 'selfCategory': 'TARGET_ORIENTED', 'groupMembership': 'OUT_GROUP', 'knowledgeBase': {'knowledge': []}}, 'groupIds': [], 'groupSizes': [], 'trajectory': {'footSteps': []}, 'modelPedestrianMap': None, 'type': 'PEDESTRIAN'}\n"
     ]
    }
   ],
   "source": [
    "print(pedestrian_new)"
   ]
  },
  {
   "cell_type": "code",
   "execution_count": null,
   "metadata": {},
   "outputs": [],
   "source": []
  }
 ]
}