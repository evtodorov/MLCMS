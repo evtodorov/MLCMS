{
 "metadata": {
  "language_info": {
   "codemirror_mode": {
    "name": "ipython",
    "version": 3
   },
   "file_extension": ".py",
   "mimetype": "text/x-python",
   "name": "python",
   "nbconvert_exporter": "python",
   "pygments_lexer": "ipython3",
   "version": "3.7.9"
  },
  "orig_nbformat": 2,
  "kernelspec": {
   "name": "python379jvsc74a57bd0e534e48711db4d1e1c48977d0d14ff85b1f16d41bcc4fdfd88268a329b3c9d66",
   "display_name": "Python 3.7.9 64-bit ('3.7')"
  }
 },
 "nbformat": 4,
 "nbformat_minor": 2,
 "cells": [
  {
   "source": [
    "Pedestrian_template = {'attributes': {'id': 1337, 'radius': 0.195, 'densityDependentSpeed': False, 'speedDistributionMean': 1.34, 'speedDistributionStandardDeviation': 0.26, 'minimumSpeed': 0.5, 'maximumSpeed': 2.2, 'acceleration': 2.0, 'footstepHistorySize': 4, 'searchRadius': 1.0, 'walkingDirectionCalculation': 'BY_TARGET_CENTER', 'walkingDirectionSameIfAngleLessOrEqual': 45.0}, 'source': None, 'targetIds': [1], 'nextTargetListIndex': 0, 'isCurrentTargetAnAgent': False, 'position': {'x': 12, 'y': 2}, 'velocity': {'x': 0.0, 'y': 0.0}, 'freeFlowSpeed': 1.420734624122518, 'followers': [], 'idAsTarget': -1, 'isChild': False, 'isLikelyInjured': False, 'psychologyStatus': {'mostImportantStimulus': None, 'threatMemory': {'allThreats': [], 'latestThreatUnhandled': False}, 'selfCategory': 'TARGET_ORIENTED', 'groupMembership': 'OUT_GROUP', 'knowledgeBase': {'knowledge': []}}, 'groupIds': [], 'groupSizes': [], 'trajectory': {'footSteps': []}, 'modelPedestrianMap': None, 'type': 'PEDESTRIAN'}"
   ],
   "cell_type": "code",
   "metadata": {},
   "execution_count": 1,
   "outputs": []
  },
  {
   "cell_type": "code",
   "execution_count": 2,
   "metadata": {},
   "outputs": [],
   "source": [
    "import json\n",
    "\n",
    "## TODO comment code\n",
    "\n",
    "read_path = 'Task123/scenarios/OSM_rimea_06_corner.scenario'\n",
    "with open(read_path, 'r') as f:\n",
    "    data = json.load(f)\n",
    "\n",
    "\n",
    "pedestrian_new = Pedestrian_template.copy()\n",
    "pedestrian_new['attributes']['id'] = 1337\n",
    "pedestrian_new['position']['x'] = 12\n",
    "pedestrian_new['position']['y'] = 2\n",
    "pedestrian_new['targetIds'] = [1]\n",
    "data['scenario']['topography']['dynamicElements'].append(pedestrian_new)\n",
    "\n",
    "new_name = 'OSM_rimea_06_corner_added_pedestrian'\n",
    "data['name'] = new_name\n",
    "\n",
    "write_path = './Task123/scenarios/'+ new_name + '.scenario'\n",
    "\n",
    "with open(write_path, 'w') as f:\n",
    "    json.dump(data, f)"
   ]
  },
  {
   "source": [
    "#print(json.dumps(data['scenario']['topography']['dynamicElements'], indent=4, sort_keys=True))"
   ],
   "cell_type": "code",
   "metadata": {},
   "execution_count": null,
   "outputs": []
  }
 ]
}