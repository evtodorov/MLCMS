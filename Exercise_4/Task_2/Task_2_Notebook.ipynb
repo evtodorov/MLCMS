{
 "metadata": {
  "language_info": {
   "codemirror_mode": {
    "name": "ipython",
    "version": 3
   },
   "file_extension": ".py",
   "mimetype": "text/x-python",
   "name": "python",
   "nbconvert_exporter": "python",
   "pygments_lexer": "ipython3",
   "version": "3.7.9"
  },
  "orig_nbformat": 2,
  "kernelspec": {
   "name": "python379jvsc74a57bd0e534e48711db4d1e1c48977d0d14ff85b1f16d41bcc4fdfd88268a329b3c9d66",
   "display_name": "Python 3.7.9 64-bit ('3.7')"
  }
 },
 "nbformat": 4,
 "nbformat_minor": 2,
 "cells": [
  {
   "cell_type": "code",
   "execution_count": 1,
   "metadata": {},
   "outputs": [],
   "source": [
    "import numpy as np\n",
    "import matplotlib.pyplot as plt\n",
    "import math"
   ]
  },
  {
   "cell_type": "code",
   "execution_count": 150,
   "metadata": {},
   "outputs": [],
   "source": [
    "def calc_dist_matrix(A, B):\n",
    "    p1 = np.sum(A**2, axis=1)[:, np.newaxis]\n",
    "    p2 = np.sum(B**2, axis=1)\n",
    "    p3 = -2*np.dot(A, B.T)\n",
    "\n",
    "    return np.sqrt(p1 + p2 + p3)\n",
    "\n",
    "#A = np.array([[1, 2, 3, 4], [5, 6, 7, 8]])\n",
    "#test = calc_dist_matrix(A)"
   ]
  },
  {
   "cell_type": "code",
   "execution_count": 152,
   "metadata": {},
   "outputs": [],
   "source": [
    "N = 1000\n",
    "pi = math.pi\n",
    "k = np.linspace(1, N, N)\n",
    "tk = 2*pi*k/(N+1)\n",
    "x = (np.cos(tk), np.sin(tk))\n",
    "#plt.plot(k, x[0])\n",
    "#plt.plot(k, x[1])\n",
    "D = calc_dist_matrix(x[0].reshape(N,1), x[1].reshape(N,1))"
   ]
  }
 ]
}