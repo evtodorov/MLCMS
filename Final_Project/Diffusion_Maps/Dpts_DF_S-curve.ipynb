{
 "cells": [
  {
   "cell_type": "code",
   "execution_count": 1,
   "metadata": {},
   "outputs": [],
   "source": [
    "import math\n",
    "import numpy as np\n",
    "from diffusions_maps import diffusion_map\n",
    "from noise_dim import add_noise_dim\n",
    "import matplotlib.pyplot as plt\n",
    "from sklearn.datasets import make_swiss_roll\n",
    "from sklearn.datasets import make_s_curve\n",
    "from mpl_toolkits.mplot3d import Axes3D\n",
    "from sklearn.decomposition import PCA\n",
    "%matplotlib inline\n",
    "plt.rcParams['figure.dpi'] = 50 # For memory saving purposes\n",
    "\n",
    "\n",
    "\n",
    "import datafold.dynfold as dfold\n",
    "import datafold.pcfold as pfold\n",
    "from datafold.dynfold import LocalRegressionSelection\n",
    "from datafold.utils.plot import plot_pairwise_eigenvector"
   ]
  },
  {
   "cell_type": "markdown",
   "metadata": {},
   "source": [
    "## 1000 datapoints"
   ]
  },
  {
   "cell_type": "code",
   "execution_count": 2,
   "metadata": {},
   "outputs": [],
   "source": [
    "nr_samples = 1000\n",
    "idx_plot = np.random.permutation(nr_samples)[0:nr_samples]\n",
    "X, X_color = make_s_curve(nr_samples, random_state=3, noise=0)"
   ]
  },
  {
   "cell_type": "code",
   "execution_count": 3,
   "metadata": {},
   "outputs": [
    {
     "name": "stdout",
     "output_type": "stream",
     "text": [
      "epsilon=0.041111998254934876, cut-off=0.8702361717373521\n"
     ]
    }
   ],
   "source": [
    "X_pcm = pfold.PCManifold(X)\n",
    "X_pcm.optimize_parameters()\n",
    "\n",
    "print(f\"epsilon={X_pcm.kernel.epsilon}, cut-off={X_pcm.cut_off}\")"
   ]
  },
  {
   "cell_type": "code",
   "execution_count": 4,
   "metadata": {},
   "outputs": [
    {
     "name": "stdout",
     "output_type": "stream",
     "text": [
      "225 ms ± 9.18 ms per loop (mean ± std. dev. of 7 runs, 1 loop each)\n"
     ]
    }
   ],
   "source": [
    "dmap = dfold.DiffusionMaps(\n",
    "    kernel=pfold.GaussianKernel(epsilon=X_pcm.kernel.epsilon),\n",
    "    n_eigenpairs=9,\n",
    "    dist_kwargs=dict(cut_off=X_pcm.cut_off),\n",
    ")\n",
    "%timeit dmap1 = dmap.fit(X_pcm)"
   ]
  },
  {
   "cell_type": "markdown",
   "metadata": {},
   "source": [
    "## 2000 datapoints"
   ]
  },
  {
   "cell_type": "code",
   "execution_count": 5,
   "metadata": {},
   "outputs": [],
   "source": [
    "nr_samples = 2000\n",
    "idx_plot = np.random.permutation(nr_samples)[0:nr_samples]\n",
    "X, X_color = make_s_curve(nr_samples, random_state=3, noise=0)"
   ]
  },
  {
   "cell_type": "code",
   "execution_count": 6,
   "metadata": {},
   "outputs": [
    {
     "name": "stdout",
     "output_type": "stream",
     "text": [
      "epsilon=0.012289096715144032, cut-off=0.4757872709743525\n"
     ]
    }
   ],
   "source": [
    "X_pcm = pfold.PCManifold(X)\n",
    "X_pcm.optimize_parameters()\n",
    "\n",
    "print(f\"epsilon={X_pcm.kernel.epsilon}, cut-off={X_pcm.cut_off}\")"
   ]
  },
  {
   "cell_type": "code",
   "execution_count": 7,
   "metadata": {},
   "outputs": [
    {
     "name": "stdout",
     "output_type": "stream",
     "text": [
      "376 ms ± 36.7 ms per loop (mean ± std. dev. of 7 runs, 1 loop each)\n"
     ]
    }
   ],
   "source": [
    "dmap = dfold.DiffusionMaps(\n",
    "    kernel=pfold.GaussianKernel(epsilon=X_pcm.kernel.epsilon),\n",
    "    n_eigenpairs=9,\n",
    "    dist_kwargs=dict(cut_off=X_pcm.cut_off),\n",
    ")\n",
    "%timeit dmap1 = dmap.fit(X_pcm)"
   ]
  },
  {
   "cell_type": "markdown",
   "metadata": {},
   "source": [
    "## 3000 datapoints"
   ]
  },
  {
   "cell_type": "code",
   "execution_count": 8,
   "metadata": {},
   "outputs": [],
   "source": [
    "nr_samples = 3000\n",
    "idx_plot = np.random.permutation(nr_samples)[0:nr_samples]\n",
    "X, X_color = make_s_curve(nr_samples, random_state=3, noise=0)"
   ]
  },
  {
   "cell_type": "code",
   "execution_count": 9,
   "metadata": {},
   "outputs": [
    {
     "name": "stdout",
     "output_type": "stream",
     "text": [
      "epsilon=0.009053107494079438, cut-off=0.40836797485738274\n"
     ]
    }
   ],
   "source": [
    "X_pcm = pfold.PCManifold(X)\n",
    "X_pcm.optimize_parameters()\n",
    "\n",
    "print(f\"epsilon={X_pcm.kernel.epsilon}, cut-off={X_pcm.cut_off}\")"
   ]
  },
  {
   "cell_type": "code",
   "execution_count": 10,
   "metadata": {},
   "outputs": [
    {
     "name": "stdout",
     "output_type": "stream",
     "text": [
      "654 ms ± 36.6 ms per loop (mean ± std. dev. of 7 runs, 1 loop each)\n"
     ]
    }
   ],
   "source": [
    "dmap = dfold.DiffusionMaps(\n",
    "    kernel=pfold.GaussianKernel(epsilon=X_pcm.kernel.epsilon),\n",
    "    n_eigenpairs=9,\n",
    "    dist_kwargs=dict(cut_off=X_pcm.cut_off),\n",
    ")\n",
    "%timeit dmap1 = dmap.fit(X_pcm)"
   ]
  },
  {
   "cell_type": "markdown",
   "metadata": {},
   "source": [
    "## 4000 datapoints"
   ]
  },
  {
   "cell_type": "code",
   "execution_count": 11,
   "metadata": {},
   "outputs": [],
   "source": [
    "nr_samples = 4000\n",
    "idx_plot = np.random.permutation(nr_samples)[0:nr_samples]\n",
    "X, X_color = make_s_curve(nr_samples, random_state=3, noise=0)"
   ]
  },
  {
   "cell_type": "code",
   "execution_count": 12,
   "metadata": {},
   "outputs": [
    {
     "name": "stdout",
     "output_type": "stream",
     "text": [
      "epsilon=0.006550598625146456, cut-off=0.34737081909048745\n"
     ]
    }
   ],
   "source": [
    "X_pcm = pfold.PCManifold(X)\n",
    "X_pcm.optimize_parameters()\n",
    "\n",
    "print(f\"epsilon={X_pcm.kernel.epsilon}, cut-off={X_pcm.cut_off}\")"
   ]
  },
  {
   "cell_type": "code",
   "execution_count": 13,
   "metadata": {},
   "outputs": [
    {
     "name": "stdout",
     "output_type": "stream",
     "text": [
      "1.17 s ± 27.3 ms per loop (mean ± std. dev. of 7 runs, 1 loop each)\n"
     ]
    }
   ],
   "source": [
    "dmap = dfold.DiffusionMaps(\n",
    "    kernel=pfold.GaussianKernel(epsilon=X_pcm.kernel.epsilon),\n",
    "    n_eigenpairs=9,\n",
    "    dist_kwargs=dict(cut_off=X_pcm.cut_off),\n",
    ")\n",
    "%timeit dmap1 = dmap.fit(X_pcm)"
   ]
  },
  {
   "cell_type": "markdown",
   "metadata": {},
   "source": [
    "## 5000 datapoints"
   ]
  },
  {
   "cell_type": "code",
   "execution_count": 14,
   "metadata": {},
   "outputs": [],
   "source": [
    "nr_samples = 5000\n",
    "idx_plot = np.random.permutation(nr_samples)[0:nr_samples]\n",
    "X, X_color = make_s_curve(nr_samples, random_state=3, noise=0)"
   ]
  },
  {
   "cell_type": "code",
   "execution_count": 15,
   "metadata": {},
   "outputs": [
    {
     "name": "stdout",
     "output_type": "stream",
     "text": [
      "epsilon=0.00460892289380875, cut-off=0.2913751828834159\n"
     ]
    }
   ],
   "source": [
    "X_pcm = pfold.PCManifold(X)\n",
    "X_pcm.optimize_parameters()\n",
    "\n",
    "print(f\"epsilon={X_pcm.kernel.epsilon}, cut-off={X_pcm.cut_off}\")"
   ]
  },
  {
   "cell_type": "code",
   "execution_count": 16,
   "metadata": {},
   "outputs": [
    {
     "name": "stdout",
     "output_type": "stream",
     "text": [
      "1.51 s ± 32.2 ms per loop (mean ± std. dev. of 7 runs, 1 loop each)\n"
     ]
    }
   ],
   "source": [
    "dmap = dfold.DiffusionMaps(\n",
    "    kernel=pfold.GaussianKernel(epsilon=X_pcm.kernel.epsilon),\n",
    "    n_eigenpairs=9,\n",
    "    dist_kwargs=dict(cut_off=X_pcm.cut_off),\n",
    ")\n",
    "%timeit dmap1 = dmap.fit(X_pcm)"
   ]
  },
  {
   "cell_type": "markdown",
   "metadata": {},
   "source": [
    "## 6000 datapoints"
   ]
  },
  {
   "cell_type": "code",
   "execution_count": 17,
   "metadata": {},
   "outputs": [],
   "source": [
    "nr_samples = 6000\n",
    "idx_plot = np.random.permutation(nr_samples)[0:nr_samples]\n",
    "X, X_color = make_s_curve(nr_samples, random_state=3, noise=0)"
   ]
  },
  {
   "cell_type": "code",
   "execution_count": 18,
   "metadata": {},
   "outputs": [
    {
     "name": "stdout",
     "output_type": "stream",
     "text": [
      "epsilon=0.004909227629905164, cut-off=0.3007179989123913\n"
     ]
    }
   ],
   "source": [
    "X_pcm = pfold.PCManifold(X)\n",
    "X_pcm.optimize_parameters()\n",
    "\n",
    "print(f\"epsilon={X_pcm.kernel.epsilon}, cut-off={X_pcm.cut_off}\")"
   ]
  },
  {
   "cell_type": "code",
   "execution_count": 19,
   "metadata": {},
   "outputs": [
    {
     "name": "stdout",
     "output_type": "stream",
     "text": [
      "2.34 s ± 60.3 ms per loop (mean ± std. dev. of 7 runs, 1 loop each)\n"
     ]
    }
   ],
   "source": [
    "dmap = dfold.DiffusionMaps(\n",
    "    kernel=pfold.GaussianKernel(epsilon=X_pcm.kernel.epsilon),\n",
    "    n_eigenpairs=9,\n",
    "    dist_kwargs=dict(cut_off=X_pcm.cut_off),\n",
    ")\n",
    "%timeit dmap1 = dmap.fit(X_pcm)"
   ]
  },
  {
   "cell_type": "markdown",
   "metadata": {},
   "source": [
    "## 7000 datapoints"
   ]
  },
  {
   "cell_type": "code",
   "execution_count": 20,
   "metadata": {},
   "outputs": [],
   "source": [
    "nr_samples = 7000\n",
    "idx_plot = np.random.permutation(nr_samples)[0:nr_samples]\n",
    "X, X_color = make_s_curve(nr_samples, random_state=3, noise=0)"
   ]
  },
  {
   "cell_type": "code",
   "execution_count": 21,
   "metadata": {},
   "outputs": [
    {
     "name": "stdout",
     "output_type": "stream",
     "text": [
      "epsilon=0.0036204058946027453, cut-off=0.2582447311137256\n"
     ]
    }
   ],
   "source": [
    "X_pcm = pfold.PCManifold(X)\n",
    "X_pcm.optimize_parameters()\n",
    "\n",
    "print(f\"epsilon={X_pcm.kernel.epsilon}, cut-off={X_pcm.cut_off}\")"
   ]
  },
  {
   "cell_type": "code",
   "execution_count": 22,
   "metadata": {},
   "outputs": [
    {
     "name": "stdout",
     "output_type": "stream",
     "text": [
      "2.9 s ± 89.7 ms per loop (mean ± std. dev. of 7 runs, 1 loop each)\n"
     ]
    }
   ],
   "source": [
    "dmap = dfold.DiffusionMaps(\n",
    "    kernel=pfold.GaussianKernel(epsilon=X_pcm.kernel.epsilon),\n",
    "    n_eigenpairs=9,\n",
    "    dist_kwargs=dict(cut_off=X_pcm.cut_off),\n",
    ")\n",
    "%timeit dmap1 = dmap.fit(X_pcm)"
   ]
  },
  {
   "cell_type": "markdown",
   "metadata": {},
   "source": [
    "## 8000 datapoints"
   ]
  },
  {
   "cell_type": "code",
   "execution_count": 23,
   "metadata": {},
   "outputs": [],
   "source": [
    "nr_samples = 8000\n",
    "idx_plot = np.random.permutation(nr_samples)[0:nr_samples]\n",
    "X, X_color = make_s_curve(nr_samples, random_state=3, noise=0)"
   ]
  },
  {
   "cell_type": "code",
   "execution_count": 24,
   "metadata": {},
   "outputs": [
    {
     "name": "stdout",
     "output_type": "stream",
     "text": [
      "epsilon=0.002773105378465487, cut-off=0.2260143553981692\n"
     ]
    }
   ],
   "source": [
    "X_pcm = pfold.PCManifold(X)\n",
    "X_pcm.optimize_parameters()\n",
    "\n",
    "print(f\"epsilon={X_pcm.kernel.epsilon}, cut-off={X_pcm.cut_off}\")"
   ]
  },
  {
   "cell_type": "code",
   "execution_count": 25,
   "metadata": {},
   "outputs": [
    {
     "name": "stdout",
     "output_type": "stream",
     "text": [
      "3.71 s ± 69.9 ms per loop (mean ± std. dev. of 7 runs, 1 loop each)\n"
     ]
    }
   ],
   "source": [
    "dmap = dfold.DiffusionMaps(\n",
    "    kernel=pfold.GaussianKernel(epsilon=X_pcm.kernel.epsilon),\n",
    "    n_eigenpairs=9,\n",
    "    dist_kwargs=dict(cut_off=X_pcm.cut_off),\n",
    ")\n",
    "%timeit dmap1 = dmap.fit(X_pcm)"
   ]
  },
  {
   "cell_type": "markdown",
   "metadata": {},
   "source": [
    "## 9000 datapoints"
   ]
  },
  {
   "cell_type": "code",
   "execution_count": 26,
   "metadata": {},
   "outputs": [],
   "source": [
    "nr_samples = 9000\n",
    "idx_plot = np.random.permutation(nr_samples)[0:nr_samples]\n",
    "X, X_color = make_s_curve(nr_samples, random_state=3, noise=0)"
   ]
  },
  {
   "cell_type": "code",
   "execution_count": 27,
   "metadata": {},
   "outputs": [
    {
     "name": "stdout",
     "output_type": "stream",
     "text": [
      "epsilon=0.0034616037819408807, cut-off=0.25251752044005\n"
     ]
    }
   ],
   "source": [
    "X_pcm = pfold.PCManifold(X)\n",
    "X_pcm.optimize_parameters()\n",
    "\n",
    "print(f\"epsilon={X_pcm.kernel.epsilon}, cut-off={X_pcm.cut_off}\")"
   ]
  },
  {
   "cell_type": "code",
   "execution_count": 28,
   "metadata": {},
   "outputs": [
    {
     "name": "stdout",
     "output_type": "stream",
     "text": [
      "4.54 s ± 205 ms per loop (mean ± std. dev. of 7 runs, 1 loop each)\n"
     ]
    }
   ],
   "source": [
    "dmap = dfold.DiffusionMaps(\n",
    "    kernel=pfold.GaussianKernel(epsilon=X_pcm.kernel.epsilon),\n",
    "    n_eigenpairs=9,\n",
    "    dist_kwargs=dict(cut_off=X_pcm.cut_off),\n",
    ")\n",
    "%timeit dmap1 = dmap.fit(X_pcm)"
   ]
  },
  {
   "cell_type": "markdown",
   "metadata": {},
   "source": [
    "## 10000 datapoints"
   ]
  },
  {
   "cell_type": "code",
   "execution_count": 29,
   "metadata": {},
   "outputs": [],
   "source": [
    "nr_samples = 10000\n",
    "idx_plot = np.random.permutation(nr_samples)[0:nr_samples]\n",
    "X, X_color = make_s_curve(nr_samples, random_state=3, noise=0)"
   ]
  },
  {
   "cell_type": "code",
   "execution_count": 30,
   "metadata": {},
   "outputs": [
    {
     "name": "stdout",
     "output_type": "stream",
     "text": [
      "epsilon=0.0027650652665002734, cut-off=0.22568647391988983\n"
     ]
    }
   ],
   "source": [
    "X_pcm = pfold.PCManifold(X)\n",
    "X_pcm.optimize_parameters()\n",
    "\n",
    "print(f\"epsilon={X_pcm.kernel.epsilon}, cut-off={X_pcm.cut_off}\")"
   ]
  },
  {
   "cell_type": "code",
   "execution_count": 31,
   "metadata": {},
   "outputs": [
    {
     "name": "stdout",
     "output_type": "stream",
     "text": [
      "5.75 s ± 207 ms per loop (mean ± std. dev. of 7 runs, 1 loop each)\n"
     ]
    }
   ],
   "source": [
    "dmap = dfold.DiffusionMaps(\n",
    "    kernel=pfold.GaussianKernel(epsilon=X_pcm.kernel.epsilon),\n",
    "    n_eigenpairs=9,\n",
    "    dist_kwargs=dict(cut_off=X_pcm.cut_off),\n",
    ")\n",
    "%timeit dmap1 = dmap.fit(X_pcm)"
   ]
  },
  {
   "cell_type": "markdown",
   "metadata": {},
   "source": [
    "## 11000 datapoints"
   ]
  },
  {
   "cell_type": "code",
   "execution_count": 32,
   "metadata": {},
   "outputs": [],
   "source": [
    "nr_samples = 11000\n",
    "idx_plot = np.random.permutation(nr_samples)[0:nr_samples]\n",
    "X, X_color = make_s_curve(nr_samples, random_state=3, noise=0)"
   ]
  },
  {
   "cell_type": "code",
   "execution_count": 33,
   "metadata": {},
   "outputs": [
    {
     "name": "stdout",
     "output_type": "stream",
     "text": [
      "epsilon=0.0021587106793084765, cut-off=0.19941143458212718\n"
     ]
    }
   ],
   "source": [
    "X_pcm = pfold.PCManifold(X)\n",
    "X_pcm.optimize_parameters()\n",
    "\n",
    "print(f\"epsilon={X_pcm.kernel.epsilon}, cut-off={X_pcm.cut_off}\")"
   ]
  },
  {
   "cell_type": "code",
   "execution_count": 34,
   "metadata": {},
   "outputs": [
    {
     "name": "stdout",
     "output_type": "stream",
     "text": [
      "6.35 s ± 192 ms per loop (mean ± std. dev. of 7 runs, 1 loop each)\n"
     ]
    }
   ],
   "source": [
    "dmap = dfold.DiffusionMaps(\n",
    "    kernel=pfold.GaussianKernel(epsilon=X_pcm.kernel.epsilon),\n",
    "    n_eigenpairs=9,\n",
    "    dist_kwargs=dict(cut_off=X_pcm.cut_off),\n",
    ")\n",
    "%timeit dmap1 = dmap.fit(X_pcm)"
   ]
  },
  {
   "cell_type": "markdown",
   "metadata": {},
   "source": [
    "## 12000 datapoints"
   ]
  },
  {
   "cell_type": "code",
   "execution_count": 35,
   "metadata": {},
   "outputs": [],
   "source": [
    "nr_samples = 12000\n",
    "idx_plot = np.random.permutation(nr_samples)[0:nr_samples]\n",
    "X, X_color = make_s_curve(nr_samples, random_state=3, noise=0)"
   ]
  },
  {
   "cell_type": "code",
   "execution_count": 36,
   "metadata": {},
   "outputs": [
    {
     "name": "stdout",
     "output_type": "stream",
     "text": [
      "epsilon=0.0023821700942910293, cut-off=0.20947838739289062\n"
     ]
    }
   ],
   "source": [
    "X_pcm = pfold.PCManifold(X)\n",
    "X_pcm.optimize_parameters()\n",
    "\n",
    "print(f\"epsilon={X_pcm.kernel.epsilon}, cut-off={X_pcm.cut_off}\")"
   ]
  },
  {
   "cell_type": "code",
   "execution_count": 37,
   "metadata": {},
   "outputs": [
    {
     "name": "stdout",
     "output_type": "stream",
     "text": [
      "8.07 s ± 203 ms per loop (mean ± std. dev. of 7 runs, 1 loop each)\n"
     ]
    }
   ],
   "source": [
    "dmap = dfold.DiffusionMaps(\n",
    "    kernel=pfold.GaussianKernel(epsilon=X_pcm.kernel.epsilon),\n",
    "    n_eigenpairs=9,\n",
    "    dist_kwargs=dict(cut_off=X_pcm.cut_off),\n",
    ")\n",
    "%timeit dmap1 = dmap.fit(X_pcm)"
   ]
  },
  {
   "cell_type": "markdown",
   "metadata": {},
   "source": [
    "## 13000 datapoints"
   ]
  },
  {
   "cell_type": "code",
   "execution_count": 38,
   "metadata": {},
   "outputs": [],
   "source": [
    "nr_samples = 13000\n",
    "idx_plot = np.random.permutation(nr_samples)[0:nr_samples]\n",
    "X, X_color = make_s_curve(nr_samples, random_state=3, noise=0)"
   ]
  },
  {
   "cell_type": "code",
   "execution_count": 39,
   "metadata": {},
   "outputs": [
    {
     "name": "stdout",
     "output_type": "stream",
     "text": [
      "epsilon=0.0016827086933251963, cut-off=0.1760586255337031\n"
     ]
    }
   ],
   "source": [
    "X_pcm = pfold.PCManifold(X)\n",
    "X_pcm.optimize_parameters()\n",
    "\n",
    "print(f\"epsilon={X_pcm.kernel.epsilon}, cut-off={X_pcm.cut_off}\")"
   ]
  },
  {
   "cell_type": "code",
   "execution_count": 40,
   "metadata": {},
   "outputs": [
    {
     "name": "stdout",
     "output_type": "stream",
     "text": [
      "8.44 s ± 222 ms per loop (mean ± std. dev. of 7 runs, 1 loop each)\n"
     ]
    }
   ],
   "source": [
    "dmap = dfold.DiffusionMaps(\n",
    "    kernel=pfold.GaussianKernel(epsilon=X_pcm.kernel.epsilon),\n",
    "    n_eigenpairs=9,\n",
    "    dist_kwargs=dict(cut_off=X_pcm.cut_off),\n",
    ")\n",
    "%timeit dmap1 = dmap.fit(X_pcm)"
   ]
  },
  {
   "cell_type": "markdown",
   "metadata": {},
   "source": [
    "## 14000 datapoints"
   ]
  },
  {
   "cell_type": "code",
   "execution_count": 41,
   "metadata": {},
   "outputs": [],
   "source": [
    "nr_samples = 14000\n",
    "idx_plot = np.random.permutation(nr_samples)[0:nr_samples]\n",
    "X, X_color = make_s_curve(nr_samples, random_state=3, noise=0)"
   ]
  },
  {
   "cell_type": "code",
   "execution_count": 42,
   "metadata": {},
   "outputs": [
    {
     "name": "stdout",
     "output_type": "stream",
     "text": [
      "epsilon=0.0015671897401275045, cut-off=0.16990792173435126\n"
     ]
    }
   ],
   "source": [
    "X_pcm = pfold.PCManifold(X)\n",
    "X_pcm.optimize_parameters()\n",
    "\n",
    "print(f\"epsilon={X_pcm.kernel.epsilon}, cut-off={X_pcm.cut_off}\")"
   ]
  },
  {
   "cell_type": "code",
   "execution_count": 43,
   "metadata": {},
   "outputs": [
    {
     "name": "stdout",
     "output_type": "stream",
     "text": [
      "9 s ± 504 ms per loop (mean ± std. dev. of 7 runs, 1 loop each)\n"
     ]
    }
   ],
   "source": [
    "dmap = dfold.DiffusionMaps(\n",
    "    kernel=pfold.GaussianKernel(epsilon=X_pcm.kernel.epsilon),\n",
    "    n_eigenpairs=9,\n",
    "    dist_kwargs=dict(cut_off=X_pcm.cut_off),\n",
    ")\n",
    "%timeit dmap1 = dmap.fit(X_pcm)"
   ]
  },
  {
   "cell_type": "markdown",
   "metadata": {},
   "source": [
    "## 15000 datapoints"
   ]
  },
  {
   "cell_type": "code",
   "execution_count": 44,
   "metadata": {},
   "outputs": [],
   "source": [
    "nr_samples = 15000\n",
    "idx_plot = np.random.permutation(nr_samples)[0:nr_samples]\n",
    "X, X_color = make_s_curve(nr_samples, random_state=3, noise=0)"
   ]
  },
  {
   "cell_type": "code",
   "execution_count": 45,
   "metadata": {},
   "outputs": [
    {
     "name": "stdout",
     "output_type": "stream",
     "text": [
      "epsilon=0.0018332392635542376, cut-off=0.18376483668322122\n"
     ]
    }
   ],
   "source": [
    "X_pcm = pfold.PCManifold(X)\n",
    "X_pcm.optimize_parameters()\n",
    "\n",
    "print(f\"epsilon={X_pcm.kernel.epsilon}, cut-off={X_pcm.cut_off}\")"
   ]
  },
  {
   "cell_type": "code",
   "execution_count": 46,
   "metadata": {},
   "outputs": [
    {
     "name": "stdout",
     "output_type": "stream",
     "text": [
      "12.1 s ± 316 ms per loop (mean ± std. dev. of 7 runs, 1 loop each)\n"
     ]
    }
   ],
   "source": [
    "dmap = dfold.DiffusionMaps(\n",
    "    kernel=pfold.GaussianKernel(epsilon=X_pcm.kernel.epsilon),\n",
    "    n_eigenpairs=9,\n",
    "    dist_kwargs=dict(cut_off=X_pcm.cut_off),\n",
    ")\n",
    "%timeit dmap1 = dmap.fit(X_pcm)"
   ]
  },
  {
   "cell_type": "code",
   "execution_count": null,
   "metadata": {},
   "outputs": [],
   "source": []
  }
 ],
 "metadata": {
  "kernelspec": {
   "display_name": "Python 3",
   "language": "python",
   "name": "python3"
  },
  "language_info": {
   "codemirror_mode": {
    "name": "ipython",
    "version": 3
   },
   "file_extension": ".py",
   "mimetype": "text/x-python",
   "name": "python",
   "nbconvert_exporter": "python",
   "pygments_lexer": "ipython3",
   "version": "3.8.5"
  }
 },
 "nbformat": 4,
 "nbformat_minor": 4
}
