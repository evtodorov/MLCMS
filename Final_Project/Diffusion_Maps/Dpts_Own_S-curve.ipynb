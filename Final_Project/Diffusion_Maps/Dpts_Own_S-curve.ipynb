{
 "cells": [
  {
   "cell_type": "code",
   "execution_count": 1,
   "metadata": {},
   "outputs": [],
   "source": [
    "import math\n",
    "import numpy as np\n",
    "from diffusions_maps import diffusion_map\n",
    "from noise_dim import add_noise_dim\n",
    "import matplotlib.pyplot as plt\n",
    "from sklearn.datasets import make_swiss_roll\n",
    "from sklearn.datasets import make_s_curve\n",
    "from mpl_toolkits.mplot3d import Axes3D\n",
    "from sklearn.decomposition import PCA\n",
    "%matplotlib inline\n",
    "plt.rcParams['figure.dpi'] = 50 # For memory saving purposes\n",
    "\n",
    "\n",
    "\n",
    "import datafold.dynfold as dfold\n",
    "import datafold.pcfold as pfold\n",
    "from datafold.dynfold import LocalRegressionSelection\n",
    "from datafold.utils.plot import plot_pairwise_eigenvector"
   ]
  },
  {
   "cell_type": "markdown",
   "metadata": {},
   "source": [
    "## 1000 datapoints"
   ]
  },
  {
   "cell_type": "code",
   "execution_count": 2,
   "metadata": {},
   "outputs": [],
   "source": [
    "N_1 = 1000\n",
    "X_es1, t1 = make_s_curve(N_1, random_state = 1337)"
   ]
  },
  {
   "cell_type": "code",
   "execution_count": 3,
   "metadata": {},
   "outputs": [],
   "source": [
    "X_es1_n1 = X_es1"
   ]
  },
  {
   "cell_type": "code",
   "execution_count": 4,
   "metadata": {},
   "outputs": [
    {
     "name": "stdout",
     "output_type": "stream",
     "text": [
      "1.92 s ± 715 ms per loop (mean ± std. dev. of 7 runs, 1 loop each)\n"
     ]
    }
   ],
   "source": [
    "num_values_1 = 10\n",
    "%timeit λ_n1, Φ_n1 = diffusion_map(X_es1_n1, num_values_1)\n",
    "#print(f'λ of shape {np.shape(λ_n1)} and values: \\n \\n {λ_n1}')"
   ]
  },
  {
   "cell_type": "markdown",
   "metadata": {},
   "source": [
    "## 2000 datapoints"
   ]
  },
  {
   "cell_type": "code",
   "execution_count": 5,
   "metadata": {},
   "outputs": [],
   "source": [
    "N_1 = 2000\n",
    "X_es1, t1 = make_s_curve(N_1, random_state = 1337)"
   ]
  },
  {
   "cell_type": "code",
   "execution_count": 6,
   "metadata": {},
   "outputs": [],
   "source": [
    "X_es1_n1 = X_es1"
   ]
  },
  {
   "cell_type": "code",
   "execution_count": 7,
   "metadata": {},
   "outputs": [
    {
     "name": "stdout",
     "output_type": "stream",
     "text": [
      "5.93 s ± 348 ms per loop (mean ± std. dev. of 7 runs, 1 loop each)\n"
     ]
    }
   ],
   "source": [
    "num_values_1 = 10\n",
    "%timeit λ_n1, Φ_n1 = diffusion_map(X_es1_n1, num_values_1)\n",
    "#print(f'λ of shape {np.shape(λ_n1)} and values: \\n \\n {λ_n1}')"
   ]
  },
  {
   "cell_type": "markdown",
   "metadata": {},
   "source": [
    "## 3000 datapoints"
   ]
  },
  {
   "cell_type": "code",
   "execution_count": 8,
   "metadata": {},
   "outputs": [],
   "source": [
    "N_1 = 3000\n",
    "X_es1, t1 = make_s_curve(N_1, random_state = 1337)"
   ]
  },
  {
   "cell_type": "code",
   "execution_count": 9,
   "metadata": {},
   "outputs": [],
   "source": [
    "X_es1_n1 = X_es1"
   ]
  },
  {
   "cell_type": "code",
   "execution_count": 10,
   "metadata": {},
   "outputs": [
    {
     "name": "stdout",
     "output_type": "stream",
     "text": [
      "15.9 s ± 1.27 s per loop (mean ± std. dev. of 7 runs, 1 loop each)\n"
     ]
    }
   ],
   "source": [
    "num_values_1 = 10\n",
    "%timeit λ_n1, Φ_n1 = diffusion_map(X_es1_n1, num_values_1)\n",
    "#print(f'λ of shape {np.shape(λ_n1)} and values: \\n \\n {λ_n1}')"
   ]
  },
  {
   "cell_type": "markdown",
   "metadata": {},
   "source": [
    "## 4000 datapoints"
   ]
  },
  {
   "cell_type": "code",
   "execution_count": 11,
   "metadata": {},
   "outputs": [],
   "source": [
    "N_1 = 4000\n",
    "X_es1, t1 = make_s_curve(N_1, random_state = 1337)"
   ]
  },
  {
   "cell_type": "code",
   "execution_count": 12,
   "metadata": {},
   "outputs": [],
   "source": [
    "X_es1_n1 = X_es1"
   ]
  },
  {
   "cell_type": "code",
   "execution_count": 13,
   "metadata": {},
   "outputs": [
    {
     "name": "stdout",
     "output_type": "stream",
     "text": [
      "28.4 s ± 1.1 s per loop (mean ± std. dev. of 7 runs, 1 loop each)\n"
     ]
    }
   ],
   "source": [
    "num_values_1 = 10\n",
    "%timeit λ_n1, Φ_n1 = diffusion_map(X_es1_n1, num_values_1)\n",
    "#print(f'λ of shape {np.shape(λ_n1)} and values: \\n \\n {λ_n1}')"
   ]
  },
  {
   "cell_type": "markdown",
   "metadata": {},
   "source": [
    "## 5000 datapoints"
   ]
  },
  {
   "cell_type": "code",
   "execution_count": 14,
   "metadata": {},
   "outputs": [],
   "source": [
    "N_1 = 5000\n",
    "X_es1, t1 = make_s_curve(N_1, random_state = 1337)"
   ]
  },
  {
   "cell_type": "code",
   "execution_count": 15,
   "metadata": {},
   "outputs": [],
   "source": [
    "X_es1_n1 = X_es1"
   ]
  },
  {
   "cell_type": "code",
   "execution_count": 16,
   "metadata": {},
   "outputs": [
    {
     "name": "stdout",
     "output_type": "stream",
     "text": [
      "1min 12s ± 2.16 s per loop (mean ± std. dev. of 7 runs, 1 loop each)\n"
     ]
    }
   ],
   "source": [
    "num_values_1 = 10\n",
    "%timeit λ_n1, Φ_n1 = diffusion_map(X_es1_n1, num_values_1)\n",
    "#print(f'λ of shape {np.shape(λ_n1)} and values: \\n \\n {λ_n1}')"
   ]
  },
  {
   "cell_type": "markdown",
   "metadata": {},
   "source": [
    "## 6000 datapoints"
   ]
  },
  {
   "cell_type": "code",
   "execution_count": 17,
   "metadata": {},
   "outputs": [],
   "source": [
    "N_1 = 6000\n",
    "X_es1, t1 = make_s_curve(N_1, random_state = 1337)"
   ]
  },
  {
   "cell_type": "code",
   "execution_count": 18,
   "metadata": {},
   "outputs": [],
   "source": [
    "X_es1_n1 = X_es1"
   ]
  },
  {
   "cell_type": "code",
   "execution_count": 19,
   "metadata": {},
   "outputs": [
    {
     "name": "stdout",
     "output_type": "stream",
     "text": [
      "1min 48s ± 4.14 s per loop (mean ± std. dev. of 7 runs, 1 loop each)\n"
     ]
    }
   ],
   "source": [
    "num_values_1 = 10\n",
    "%timeit λ_n1, Φ_n1 = diffusion_map(X_es1_n1, num_values_1)\n",
    "#print(f'λ of shape {np.shape(λ_n1)} and values: \\n \\n {λ_n1}')"
   ]
  },
  {
   "cell_type": "markdown",
   "metadata": {},
   "source": [
    "## 7000 datapoints"
   ]
  },
  {
   "cell_type": "code",
   "execution_count": 20,
   "metadata": {},
   "outputs": [],
   "source": [
    "N_1 = 7000\n",
    "X_es1, t1 = make_s_curve(N_1, random_state = 1337)"
   ]
  },
  {
   "cell_type": "code",
   "execution_count": 21,
   "metadata": {},
   "outputs": [],
   "source": [
    "X_es1_n1 = X_es1"
   ]
  },
  {
   "cell_type": "code",
   "execution_count": 22,
   "metadata": {},
   "outputs": [
    {
     "name": "stdout",
     "output_type": "stream",
     "text": [
      "2min 29s ± 5.67 s per loop (mean ± std. dev. of 7 runs, 1 loop each)\n"
     ]
    }
   ],
   "source": [
    "num_values_1 = 10\n",
    "%timeit λ_n1, Φ_n1 = diffusion_map(X_es1_n1, num_values_1)\n",
    "#print(f'λ of shape {np.shape(λ_n1)} and values: \\n \\n {λ_n1}')"
   ]
  },
  {
   "cell_type": "markdown",
   "metadata": {},
   "source": [
    "## 8000 datapoints"
   ]
  },
  {
   "cell_type": "code",
   "execution_count": 23,
   "metadata": {},
   "outputs": [],
   "source": [
    "N_1 = 8000\n",
    "X_es1, t1 = make_s_curve(N_1, random_state = 1337)"
   ]
  },
  {
   "cell_type": "code",
   "execution_count": 24,
   "metadata": {},
   "outputs": [],
   "source": [
    "X_es1_n1 = X_es1"
   ]
  },
  {
   "cell_type": "code",
   "execution_count": 25,
   "metadata": {},
   "outputs": [
    {
     "name": "stdout",
     "output_type": "stream",
     "text": [
      "2min 50s ± 43.2 s per loop (mean ± std. dev. of 7 runs, 1 loop each)\n"
     ]
    }
   ],
   "source": [
    "num_values_1 = 10\n",
    "%timeit λ_n1, Φ_n1 = diffusion_map(X_es1_n1, num_values_1)\n",
    "#print(f'λ of shape {np.shape(λ_n1)} and values: \\n \\n {λ_n1}')"
   ]
  },
  {
   "cell_type": "markdown",
   "metadata": {},
   "source": [
    "## 9000 datapoints"
   ]
  },
  {
   "cell_type": "code",
   "execution_count": 26,
   "metadata": {},
   "outputs": [],
   "source": [
    "N_1 = 9000\n",
    "X_es1, t1 = make_s_curve(N_1, random_state = 1337)"
   ]
  },
  {
   "cell_type": "code",
   "execution_count": 27,
   "metadata": {},
   "outputs": [],
   "source": [
    "X_es1_n1 = X_es1"
   ]
  },
  {
   "cell_type": "code",
   "execution_count": 28,
   "metadata": {},
   "outputs": [
    {
     "name": "stdout",
     "output_type": "stream",
     "text": [
      "4min 19s ± 28.1 s per loop (mean ± std. dev. of 7 runs, 1 loop each)\n"
     ]
    }
   ],
   "source": [
    "num_values_1 = 10\n",
    "%timeit λ_n1, Φ_n1 = diffusion_map(X_es1_n1, num_values_1)\n",
    "#print(f'λ of shape {np.shape(λ_n1)} and values: \\n \\n {λ_n1}')"
   ]
  },
  {
   "cell_type": "markdown",
   "metadata": {},
   "source": [
    "## 10000 datapoints"
   ]
  },
  {
   "cell_type": "code",
   "execution_count": 29,
   "metadata": {},
   "outputs": [],
   "source": [
    "N_1 = 10000\n",
    "X_es1, t1 = make_s_curve(N_1, random_state = 1337)"
   ]
  },
  {
   "cell_type": "code",
   "execution_count": 30,
   "metadata": {},
   "outputs": [],
   "source": [
    "X_es1_n1 = X_es1"
   ]
  },
  {
   "cell_type": "code",
   "execution_count": 31,
   "metadata": {},
   "outputs": [
    {
     "name": "stdout",
     "output_type": "stream",
     "text": [
      "5min 14s ± 24.5 s per loop (mean ± std. dev. of 7 runs, 1 loop each)\n"
     ]
    }
   ],
   "source": [
    "num_values_1 = 10\n",
    "%timeit λ_n1, Φ_n1 = diffusion_map(X_es1_n1, num_values_1)\n",
    "#print(f'λ of shape {np.shape(λ_n1)} and values: \\n \\n {λ_n1}')"
   ]
  },
  {
   "cell_type": "markdown",
   "metadata": {},
   "source": [
    "## 11000 datapoints"
   ]
  },
  {
   "cell_type": "code",
   "execution_count": 32,
   "metadata": {},
   "outputs": [],
   "source": [
    "N_1 = 11000\n",
    "X_es1, t1 = make_s_curve(N_1, random_state = 1337)"
   ]
  },
  {
   "cell_type": "code",
   "execution_count": 33,
   "metadata": {},
   "outputs": [],
   "source": [
    "X_es1_n1 = X_es1"
   ]
  },
  {
   "cell_type": "code",
   "execution_count": 34,
   "metadata": {},
   "outputs": [
    {
     "name": "stdout",
     "output_type": "stream",
     "text": [
      "5min 19s ± 11.4 s per loop (mean ± std. dev. of 7 runs, 1 loop each)\n"
     ]
    }
   ],
   "source": [
    "num_values_1 = 10\n",
    "%timeit λ_n1, Φ_n1 = diffusion_map(X_es1_n1, num_values_1)\n",
    "#print(f'λ of shape {np.shape(λ_n1)} and values: \\n \\n {λ_n1}')"
   ]
  },
  {
   "cell_type": "markdown",
   "metadata": {},
   "source": [
    "## 12000 datapoints"
   ]
  },
  {
   "cell_type": "code",
   "execution_count": 35,
   "metadata": {},
   "outputs": [],
   "source": [
    "N_1 = 12000\n",
    "X_es1, t1 = make_s_curve(N_1, random_state = 1337)"
   ]
  },
  {
   "cell_type": "code",
   "execution_count": 36,
   "metadata": {},
   "outputs": [],
   "source": [
    "X_es1_n1 = X_es1"
   ]
  },
  {
   "cell_type": "code",
   "execution_count": 37,
   "metadata": {},
   "outputs": [
    {
     "name": "stdout",
     "output_type": "stream",
     "text": [
      "6min 41s ± 5.82 s per loop (mean ± std. dev. of 7 runs, 1 loop each)\n"
     ]
    }
   ],
   "source": [
    "num_values_1 = 10\n",
    "%timeit λ_n1, Φ_n1 = diffusion_map(X_es1_n1, num_values_1)\n",
    "#print(f'λ of shape {np.shape(λ_n1)} and values: \\n \\n {λ_n1}')"
   ]
  },
  {
   "cell_type": "markdown",
   "metadata": {},
   "source": [
    "## 13000 datapoints"
   ]
  },
  {
   "cell_type": "code",
   "execution_count": 38,
   "metadata": {},
   "outputs": [],
   "source": [
    "N_1 = 13000\n",
    "X_es1, t1 = make_s_curve(N_1, random_state = 1337)"
   ]
  },
  {
   "cell_type": "code",
   "execution_count": 39,
   "metadata": {},
   "outputs": [],
   "source": [
    "X_es1_n1 = X_es1"
   ]
  },
  {
   "cell_type": "code",
   "execution_count": 40,
   "metadata": {},
   "outputs": [
    {
     "name": "stdout",
     "output_type": "stream",
     "text": [
      "10min 49s ± 2min 49s per loop (mean ± std. dev. of 7 runs, 1 loop each)\n"
     ]
    }
   ],
   "source": [
    "num_values_1 = 10\n",
    "%timeit λ_n1, Φ_n1 = diffusion_map(X_es1_n1, num_values_1)\n",
    "#print(f'λ of shape {np.shape(λ_n1)} and values: \\n \\n {λ_n1}')"
   ]
  },
  {
   "cell_type": "markdown",
   "metadata": {},
   "source": [
    "## 14000 datapoints"
   ]
  },
  {
   "cell_type": "code",
   "execution_count": 41,
   "metadata": {},
   "outputs": [],
   "source": [
    "N_1 = 14000\n",
    "X_es1, t1 = make_s_curve(N_1, random_state = 1337)"
   ]
  },
  {
   "cell_type": "code",
   "execution_count": 42,
   "metadata": {},
   "outputs": [],
   "source": [
    "X_es1_n1 = X_es1"
   ]
  },
  {
   "cell_type": "code",
   "execution_count": 43,
   "metadata": {},
   "outputs": [
    {
     "name": "stdout",
     "output_type": "stream",
     "text": [
      "13min 41s ± 3min 31s per loop (mean ± std. dev. of 7 runs, 1 loop each)\n"
     ]
    }
   ],
   "source": [
    "num_values_1 = 10\n",
    "%timeit λ_n1, Φ_n1 = diffusion_map(X_es1_n1, num_values_1)\n",
    "#print(f'λ of shape {np.shape(λ_n1)} and values: \\n \\n {λ_n1}')"
   ]
  },
  {
   "cell_type": "markdown",
   "metadata": {},
   "source": [
    "## 15000 datapoints"
   ]
  },
  {
   "cell_type": "code",
   "execution_count": 44,
   "metadata": {},
   "outputs": [],
   "source": [
    "N_1 = 15000\n",
    "X_es1, t1 = make_s_curve(N_1, random_state = 1337)"
   ]
  },
  {
   "cell_type": "code",
   "execution_count": 45,
   "metadata": {},
   "outputs": [],
   "source": [
    "X_es1_n1 = X_es1"
   ]
  },
  {
   "cell_type": "code",
   "execution_count": 46,
   "metadata": {},
   "outputs": [
    {
     "name": "stdout",
     "output_type": "stream",
     "text": [
      "10min 14s ± 21.4 s per loop (mean ± std. dev. of 7 runs, 1 loop each)\n"
     ]
    }
   ],
   "source": [
    "num_values_1 = 10\n",
    "%timeit λ_n1, Φ_n1 = diffusion_map(X_es1_n1, num_values_1)\n",
    "#print(f'λ of shape {np.shape(λ_n1)} and values: \\n \\n {λ_n1}')"
   ]
  }
 ],
 "metadata": {
  "kernelspec": {
   "display_name": "Python 3",
   "language": "python",
   "name": "python3"
  },
  "language_info": {
   "codemirror_mode": {
    "name": "ipython",
    "version": 3
   },
   "file_extension": ".py",
   "mimetype": "text/x-python",
   "name": "python",
   "nbconvert_exporter": "python",
   "pygments_lexer": "ipython3",
   "version": "3.8.5"
  }
 },
 "nbformat": 4,
 "nbformat_minor": 4
}
